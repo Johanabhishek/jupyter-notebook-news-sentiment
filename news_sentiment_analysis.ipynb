{
 "cells": [
  {
   "cell_type": "code",
   "execution_count": 1,
   "id": "0365c482-2bd5-418a-8d5c-a7d403761ab0",
   "metadata": {},
   "outputs": [
    {
     "name": "stdout",
     "output_type": "stream",
     "text": [
      "Requirement already satisfied: requests in c:\\users\\johan\\anaconda3\\lib\\site-packages (2.32.2)\n",
      "Requirement already satisfied: gtts in c:\\users\\johan\\anaconda3\\lib\\site-packages (2.5.4)\n",
      "Requirement already satisfied: nltk in c:\\users\\johan\\anaconda3\\lib\\site-packages (3.8.1)\n",
      "Requirement already satisfied: charset-normalizer<4,>=2 in c:\\users\\johan\\anaconda3\\lib\\site-packages (from requests) (2.0.4)\n",
      "Requirement already satisfied: idna<4,>=2.5 in c:\\users\\johan\\anaconda3\\lib\\site-packages (from requests) (3.7)\n",
      "Requirement already satisfied: urllib3<3,>=1.21.1 in c:\\users\\johan\\anaconda3\\lib\\site-packages (from requests) (2.2.2)\n",
      "Requirement already satisfied: certifi>=2017.4.17 in c:\\users\\johan\\anaconda3\\lib\\site-packages (from requests) (2024.7.4)\n",
      "Requirement already satisfied: click<8.2,>=7.1 in c:\\users\\johan\\anaconda3\\lib\\site-packages (from gtts) (8.1.7)\n",
      "Requirement already satisfied: joblib in c:\\users\\johan\\anaconda3\\lib\\site-packages (from nltk) (1.4.2)\n",
      "Requirement already satisfied: regex>=2021.8.3 in c:\\users\\johan\\anaconda3\\lib\\site-packages (from nltk) (2023.10.3)\n",
      "Requirement already satisfied: tqdm in c:\\users\\johan\\anaconda3\\lib\\site-packages (from nltk) (4.66.4)\n",
      "Requirement already satisfied: colorama in c:\\users\\johan\\anaconda3\\lib\\site-packages (from click<8.2,>=7.1->gtts) (0.4.6)\n"
     ]
    }
   ],
   "source": [
    "!pip install requests gtts nltk\n"
   ]
  },
  {
   "cell_type": "code",
   "execution_count": 3,
   "id": "6d6a34e1-62b0-4104-8a8d-5f6dbf55c6f1",
   "metadata": {},
   "outputs": [
    {
     "name": "stderr",
     "output_type": "stream",
     "text": [
      "[nltk_data] Downloading package vader_lexicon to\n",
      "[nltk_data]     C:\\Users\\johan\\AppData\\Roaming\\nltk_data...\n",
      "[nltk_data]   Package vader_lexicon is already up-to-date!\n"
     ]
    },
    {
     "data": {
      "text/plain": [
       "True"
      ]
     },
     "execution_count": 3,
     "metadata": {},
     "output_type": "execute_result"
    }
   ],
   "source": [
    "import requests\n",
    "from gtts import gTTS\n",
    "import os\n",
    "from nltk.sentiment.vader import SentimentIntensityAnalyzer\n",
    "import nltk\n",
    "\n",
    "# Download VADER lexicon for sentiment analysis\n",
    "nltk.download('vader_lexicon')"
   ]
  },
  {
   "cell_type": "code",
   "execution_count": null,
   "id": "e38528c1-9196-47a3-87bd-17d91c2c5395",
   "metadata": {},
   "outputs": [],
   "source": []
  },
  {
   "cell_type": "code",
   "execution_count": 12,
   "id": "6f502e03-71c4-42b8-89ff-5d92ad1dc1f6",
   "metadata": {},
   "outputs": [],
   "source": [
    "def scrape_news(company_name):\n",
    "    # Replace 'YOUR_API_KEY' with your actual NewsAPI key\n",
    "    url = f\"https://newsapi.org/v2/everything?q={company_name}&apiKey=20861510292e472f8434fc9948445d0b\"  # Replace YOUR_ACTUAL_API_KEY\n",
    "    response = requests.get(url)\n",
    "    \n",
    "    # Check if the request was successful\n",
    "    if response.status_code != 200:\n",
    "        print(f\"Error: Failed to fetch news. Status code: {response.status_code}\")\n",
    "        print(\"Response content:\", response.json())  # Print the error message from the API\n",
    "        return []\n",
    "    \n",
    "    # Parse the JSON response\n",
    "    data = response.json()\n",
    "    \n",
    "    # Check if articles are present\n",
    "    if 'articles' not in data:\n",
    "        print(\"Error: No 'articles' key in the response.\")\n",
    "        return []\n",
    "    \n",
    "    articles = data['articles']\n",
    "    \n",
    "    if not articles:\n",
    "        print(\"No articles found for the given query.\")\n",
    "    \n",
    "    return articles"
   ]
  },
  {
   "cell_type": "code",
   "execution_count": 14,
   "id": "fe2bc297-c8d6-4ee6-8c53-9fed829c1f09",
   "metadata": {},
   "outputs": [
    {
     "name": "stdout",
     "output_type": "stream",
     "text": [
      "Number of articles fetched: 96\n",
      "First article title: Is Tesla cooked?\n"
     ]
    }
   ],
   "source": [
    "# Test the function with a company name (e.g., \"Tesla\")\n",
    "articles = scrape_news(\"Tesla\")\n",
    "\n",
    "# Print the number of articles fetched\n",
    "print(f\"Number of articles fetched: {len(articles)}\")\n",
    "\n",
    "# Print the first article (if available)\n",
    "if articles:\n",
    "    print(\"First article title:\", articles[0]['title'])\n",
    "else:\n",
    "    print(\"No articles found.\")"
   ]
  },
  {
   "cell_type": "code",
   "execution_count": 18,
   "id": "f3bd72df-3470-40b2-9be0-37c0b58afade",
   "metadata": {},
   "outputs": [],
   "source": [
    "def analyze_sentiment(text):\n",
    "    analyzer = SentimentIntensityAnalyzer()\n",
    "    sentiment_score = analyzer.polarity_scores(text)\n",
    "    return sentiment_score"
   ]
  },
  {
   "cell_type": "code",
   "execution_count": 20,
   "id": "bcbbf1ed-6212-4b71-a1e6-54e60295f3f6",
   "metadata": {},
   "outputs": [
    {
     "name": "stdout",
     "output_type": "stream",
     "text": [
      "Sentiment Score: {'neg': 0.0, 'neu': 0.614, 'pos': 0.386, 'compound': 0.6588}\n"
     ]
    }
   ],
   "source": [
    "# Test sentiment analysis on a sample text\n",
    "sample_text = \"Tesla is doing great in the stock market!\"\n",
    "sentiment = analyze_sentiment(sample_text)\n",
    "print(\"Sentiment Score:\", sentiment)"
   ]
  },
  {
   "cell_type": "code",
   "execution_count": 22,
   "id": "a7e98911-b8b1-4010-a13a-a341d7d22042",
   "metadata": {},
   "outputs": [],
   "source": [
    "def text_to_speech(text, language='hi'):\n",
    "    tts = gTTS(text=text, lang=language, slow=False)\n",
    "    tts.save(\"output.mp3\")\n",
    "    os.system(\"start output.mp3\")  # Play the audio (Windows)\n",
    "    # For macOS/Linux, use: os.system(\"afplay output.mp3\")"
   ]
  },
  {
   "cell_type": "code",
   "execution_count": 24,
   "id": "d17b60c3-6cf5-4554-8ae1-a08631ee934e",
   "metadata": {},
   "outputs": [],
   "source": [
    "# Test TTS with a sample text\n",
    "text_to_speech(\"नमस्ते, यह एक परीक्षण संदेश है।\", language='hi')"
   ]
  },
  {
   "cell_type": "code",
   "execution_count": 26,
   "id": "ff8cf886-31ed-452a-acb2-c08b0aeb3b99",
   "metadata": {},
   "outputs": [
    {
     "name": "stdout",
     "output_type": "stream",
     "text": [
      "Title: Is Tesla cooked?\n",
      "Sentiment Score: {'neg': 0.0, 'neu': 1.0, 'pos': 0.0, 'compound': 0.0}\n"
     ]
    }
   ],
   "source": [
    "# Fetch news articles\n",
    "company_name = \"Tesla\"  # Replace with your desired company/topic\n",
    "articles = scrape_news(company_name)\n",
    "\n",
    "# Check if articles are available\n",
    "if articles:\n",
    "    # Analyze sentiment and generate TTS for the first article\n",
    "    first_article = articles[0]\n",
    "    print(\"Title:\", first_article['title'])\n",
    "    \n",
    "    # Analyze sentiment\n",
    "    sentiment = analyze_sentiment(first_article['title'])\n",
    "    print(\"Sentiment Score:\", sentiment)\n",
    "    \n",
    "    # Generate Hindi TTS\n",
    "    text_to_speech(first_article['title'], language='hi')\n",
    "else:\n",
    "    print(\"No articles found for the given query.\")"
   ]
  },
  {
   "cell_type": "code",
   "execution_count": null,
   "id": "7ed1d4fd-c7de-4d95-b7c0-dc11ca6ee1c0",
   "metadata": {},
   "outputs": [],
   "source": []
  }
 ],
 "metadata": {
  "kernelspec": {
   "display_name": "Python 3 (ipykernel)",
   "language": "python",
   "name": "python3"
  },
  "language_info": {
   "codemirror_mode": {
    "name": "ipython",
    "version": 3
   },
   "file_extension": ".py",
   "mimetype": "text/x-python",
   "name": "python",
   "nbconvert_exporter": "python",
   "pygments_lexer": "ipython3",
   "version": "3.12.4"
  }
 },
 "nbformat": 4,
 "nbformat_minor": 5
}
