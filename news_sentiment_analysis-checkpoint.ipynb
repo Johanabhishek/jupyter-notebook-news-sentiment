{
 "cells": [
  {
   "cell_type": "code",
   "execution_count": 1,
   "id": "0365c482-2bd5-418a-8d5c-a7d403761ab0",
   "metadata": {},
   "outputs": [],
   "source": [
    "#!pip install requests gtts nltk\n"
   ]
  },
  {
   "cell_type": "code",
   "execution_count": 2,
   "id": "843c6b7b-54d7-49ab-ae6a-3d854413575e",
   "metadata": {},
   "outputs": [],
   "source": [
    "#pip install googletrans==4.0.0-rc1 gtts"
   ]
  },
  {
   "cell_type": "code",
   "execution_count": 3,
   "id": "6d6a34e1-62b0-4104-8a8d-5f6dbf55c6f1",
   "metadata": {},
   "outputs": [
    {
     "name": "stderr",
     "output_type": "stream",
     "text": [
      "[nltk_data] Downloading package vader_lexicon to\n",
      "[nltk_data]     C:\\Users\\johan\\AppData\\Roaming\\nltk_data...\n",
      "[nltk_data]   Package vader_lexicon is already up-to-date!\n"
     ]
    },
    {
     "data": {
      "text/plain": [
       "True"
      ]
     },
     "execution_count": 3,
     "metadata": {},
     "output_type": "execute_result"
    }
   ],
   "source": [
    "import requests\n",
    "from gtts import gTTS\n",
    "import os\n",
    "from nltk.sentiment.vader import SentimentIntensityAnalyzer\n",
    "import nltk\n",
    "\n",
    "# Download VADER lexicon for sentiment analysis\n",
    "nltk.download('vader_lexicon')"
   ]
  },
  {
   "cell_type": "code",
   "execution_count": null,
   "id": "e38528c1-9196-47a3-87bd-17d91c2c5395",
   "metadata": {},
   "outputs": [],
   "source": []
  },
  {
   "cell_type": "code",
   "execution_count": 4,
   "id": "6f502e03-71c4-42b8-89ff-5d92ad1dc1f6",
   "metadata": {},
   "outputs": [],
   "source": [
    "def scrape_news(company_name):\n",
    "    # Replace 'YOUR_API_KEY' with your actual NewsAPI key\n",
    "    url = f\"https://newsapi.org/v2/everything?q={company_name}&apiKey=20861510292e472f8434fc9948445d0b\"  # Replace YOUR_ACTUAL_API_KEY\n",
    "    response = requests.get(url)\n",
    "    \n",
    "    # Check if the request was successful\n",
    "    if response.status_code != 200:\n",
    "        print(f\"Error: Failed to fetch news. Status code: {response.status_code}\")\n",
    "        print(\"Response content:\", response.json())  # Print the error message from the API\n",
    "        return []\n",
    "    \n",
    "    # Parse the JSON response\n",
    "    data = response.json()\n",
    "    \n",
    "    # Check if articles are present\n",
    "    if 'articles' not in data:\n",
    "        print(\"Error: No 'articles' key in the response.\")\n",
    "        return []\n",
    "    \n",
    "    articles = data['articles']\n",
    "    \n",
    "    if not articles:\n",
    "        print(\"No articles found for the given query.\")\n",
    "    \n",
    "    return articles"
   ]
  },
  {
   "cell_type": "code",
   "execution_count": 5,
   "id": "fe2bc297-c8d6-4ee6-8c53-9fed829c1f09",
   "metadata": {},
   "outputs": [
    {
     "name": "stdout",
     "output_type": "stream",
     "text": [
      "Number of articles fetched: 88\n",
      "First article title: Nvidia denies reports that its RTX 50 laptop GPUs are missing ROPs, too\n"
     ]
    }
   ],
   "source": [
    "# Test the function with a company name (e.g., \"Tesla\")\n",
    "articles = scrape_news(\"NVIDIA\")\n",
    "\n",
    "# Print the number of articles fetched\n",
    "print(f\"Number of articles fetched: {len(articles)}\")\n",
    "\n",
    "# Print the first article (if available)\n",
    "if articles:\n",
    "    print(\"First article title:\", articles[0]['title'])\n",
    "else:\n",
    "    print(\"No articles found.\")"
   ]
  },
  {
   "cell_type": "code",
   "execution_count": 6,
   "id": "f3bd72df-3470-40b2-9be0-37c0b58afade",
   "metadata": {},
   "outputs": [],
   "source": [
    "def analyze_sentiment(text):\n",
    "    analyzer = SentimentIntensityAnalyzer()\n",
    "    sentiment_score = analyzer.polarity_scores(text)\n",
    "    return sentiment_score"
   ]
  },
  {
   "cell_type": "code",
   "execution_count": 7,
   "id": "bcbbf1ed-6212-4b71-a1e6-54e60295f3f6",
   "metadata": {},
   "outputs": [
    {
     "name": "stdout",
     "output_type": "stream",
     "text": [
      "Sentiment Score: {'neg': 0.0, 'neu': 0.614, 'pos': 0.386, 'compound': 0.6588}\n"
     ]
    }
   ],
   "source": [
    "# Test sentiment analysis on a sample text\n",
    "sample_text = \"Tesla is doing great in the stock market!\"\n",
    "sentiment = analyze_sentiment(sample_text)\n",
    "print(\"Sentiment Score:\", sentiment)"
   ]
  },
  {
   "cell_type": "code",
   "execution_count": 8,
   "id": "81287de0-e579-4ac9-8f07-848ec265e348",
   "metadata": {},
   "outputs": [],
   "source": [
    "def text_to_speech(text, language='hi'):\n",
    "    tts = gTTS(text=text, lang=language, slow=False)\n",
    "    tts.save(\"output.mp3\")\n",
    "    os.system(\"start output.mp3\") "
   ]
  },
  {
   "cell_type": "code",
   "execution_count": 17,
   "id": "d17b60c3-6cf5-4554-8ae1-a08631ee934e",
   "metadata": {},
   "outputs": [],
   "source": [
    "# Test TTS with a sample text\n",
    "text_to_speech(\"नमस्ते, यह एक परीक्षण संदेश है।\", language='hi')"
   ]
  },
  {
   "cell_type": "code",
   "execution_count": 21,
   "id": "bf27f4f7-8a7b-4a21-a39b-1043b581cff2",
   "metadata": {},
   "outputs": [
    {
     "name": "stdout",
     "output_type": "stream",
     "text": [
      "आपका अंग्रेजी पाठ यहाँ\n"
     ]
    }
   ],
   "source": [
    "from googletrans import Translator\n",
    "translator = Translator()\n",
    "translated_text = translator.translate(\"Your English text here\", dest='hi').text\n",
    "print(translated_text)"
   ]
  },
  {
   "cell_type": "code",
   "execution_count": 27,
   "id": "ff8cf886-31ed-452a-acb2-c08b0aeb3b99",
   "metadata": {},
   "outputs": [
    {
     "name": "stdin",
     "output_type": "stream",
     "text": [
      " netflix\n"
     ]
    },
    {
     "name": "stdout",
     "output_type": "stream",
     "text": [
      "Title: Netflix follows Paul vs. Tyson fight with another boxing stream in July\n",
      "Sentiment Score: {'neg': 0.191, 'neu': 0.809, 'pos': 0.0, 'compound': -0.3818}\n"
     ]
    }
   ],
   "source": [
    "# Fetch news articles\n",
    "#company_name = \"NVIDIA\"  # Replace with your desired company/topic\n",
    "company_name = input()\n",
    "\n",
    "articles = scrape_news(company_name)\n",
    "\n",
    "\n",
    "# Check if articles are available\n",
    "if articles:\n",
    "    # Analyze sentiment and generate TTS for the first article\n",
    "    first_article = articles[0]\n",
    "    print(\"Title:\", first_article['title'])\n",
    "    \n",
    "    # Analyze sentiment\n",
    "    sentiment = analyze_sentiment(first_article['title'])\n",
    "    print(\"Sentiment Score:\", sentiment)\n",
    "    \n",
    "    # Generate Hindi TTS\n",
    "    text_to_speech(first_article['title'], language='hi')\n",
    "else:\n",
    "    print(\"No articles found for the given query.\")\n",
    "\n",
    "\n",
    "\n",
    "#text_to_speech(\"नमस्ते, यह एक परीक्षण संदेश है।\", input(), language='hi')"
   ]
  },
  {
   "cell_type": "code",
   "execution_count": 25,
   "id": "5dad0195-b0f4-405f-bb55-24f12cc0ea3e",
   "metadata": {},
   "outputs": [
    {
     "name": "stdin",
     "output_type": "stream",
     "text": [
      " netflix\n"
     ]
    },
    {
     "name": "stdout",
     "output_type": "stream",
     "text": [
      "Hindi Text: नेटफ्लिक्स जुलाई में एक और बॉक्सिंग स्ट्रीम के साथ पॉल बनाम टायसन फाइट का अनुसरण करता है\n"
     ]
    },
    {
     "data": {
      "text/plain": [
       "0"
      ]
     },
     "execution_count": 25,
     "metadata": {},
     "output_type": "execute_result"
    }
   ],
   "source": [
    "# Step 1: Assume you have the output in English\n",
    "output_text = \"The sentiment analysis result is positive.\"\n",
    "company_name = input()\n",
    "# Step 2: Translate to Hindi\n",
    "from googletrans import Translator\n",
    "translator = Translator()\n",
    "Title = translator.translate(first_article['title'], dest='hi').text\n",
    "print(\"Hindi Text:\", Title)\n",
    "\n",
    "# Step 3: Convert Hindi text to speech\n",
    "from gtts import gTTS\n",
    "import os\n",
    "\n",
    "tts = gTTS(first_article['title'], lang='hi')\n",
    "tts.save(\"output.mp3\")\n",
    "\n",
    "# Play the audio\n",
    "os.system(\"start output.mp3\")  # For Windows\n",
    "# os.system(\"afplay output.mp3\")  # For macOS\n",
    "# os.system(\"mpg321 output.mp3\")  # For Linux"
   ]
  },
  {
   "cell_type": "code",
   "execution_count": null,
   "id": "7ed1d4fd-c7de-4d95-b7c0-dc11ca6ee1c0",
   "metadata": {},
   "outputs": [],
   "source": []
  }
 ],
 "metadata": {
  "kernelspec": {
   "display_name": "Python 3 (ipykernel)",
   "language": "python",
   "name": "python3"
  },
  "language_info": {
   "codemirror_mode": {
    "name": "ipython",
    "version": 3
   },
   "file_extension": ".py",
   "mimetype": "text/x-python",
   "name": "python",
   "nbconvert_exporter": "python",
   "pygments_lexer": "ipython3",
   "version": "3.12.4"
  }
 },
 "nbformat": 4,
 "nbformat_minor": 5
}
